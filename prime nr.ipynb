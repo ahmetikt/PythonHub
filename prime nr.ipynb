{
 "cells": [
  {
   "cell_type": "code",
   "execution_count": null,
   "metadata": {},
   "outputs": [],
   "source": [
    "nr = int(input(\"enter a number: \"))\n",
    "if nr != 1:\n",
    "    for i in range(2,nr):\n",
    "        if nr % i == 0:\n",
    "            print(f'{nr} is not a prime number.')\n",
    "            break\n",
    "    else:\n",
    "        print(f'{nr} is a prime number.')\n",
    "else:\n",
    "    print(f'{nr} is not a prime number.')"
   ]
  },
  {
   "cell_type": "code",
   "execution_count": null,
   "metadata": {},
   "outputs": [],
   "source": []
  },
  {
   "cell_type": "code",
   "execution_count": null,
   "metadata": {},
   "outputs": [],
   "source": []
  }
 ],
 "metadata": {
  "kernelspec": {
   "display_name": "Python 3",
   "language": "python",
   "name": "python3"
  },
  "language_info": {
   "codemirror_mode": {
    "name": "ipython",
    "version": 3
   },
   "file_extension": ".py",
   "mimetype": "text/x-python",
   "name": "python",
   "nbconvert_exporter": "python",
   "pygments_lexer": "ipython3",
   "version": "3.7.6"
  }
 },
 "nbformat": 4,
 "nbformat_minor": 4
}
