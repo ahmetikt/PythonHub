{
 "cells": [
  {
   "cell_type": "code",
   "execution_count": 52,
   "metadata": {},
   "outputs": [],
   "source": [
    "#kar zarar hesabi dict ile. \n",
    "\n",
    "profit = {\"cost_price\": 32.67, \"sell_price\": 45.00, \"inventory\": 1200 }\n",
    "\n",
    "\n"
   ]
  },
  {
   "cell_type": "code",
   "execution_count": 60,
   "metadata": {},
   "outputs": [],
   "source": [
    "def total_profit(info):\n",
    "    [a,b,c] = info.values()\n",
    "    return round((b-a)*c)\n",
    "    \n",
    "      \n",
    "\n"
   ]
  },
  {
   "cell_type": "code",
   "execution_count": 61,
   "metadata": {},
   "outputs": [
    {
     "output_type": "execute_result",
     "data": {
      "text/plain": "14796"
     },
     "metadata": {},
     "execution_count": 61
    }
   ],
   "source": [
    "total_profit(profit)"
   ]
  },
  {
   "cell_type": "code",
   "execution_count": 103,
   "metadata": {},
   "outputs": [],
   "source": [
    "profit2 = ({\n",
    "  \"cost_price\": 2.77,\n",
    "  \"sell_price\": 7.95,\n",
    "  \"inventory\": 8500\n",
    "}) "
   ]
  },
  {
   "cell_type": "code",
   "execution_count": 104,
   "metadata": {},
   "outputs": [],
   "source": [
    "def profit_2(info2):\n",
    "    a = (info2['sell_price']-info2['cost_price'])*info2['inventory']\n",
    "    return round(a)\n"
   ]
  },
  {
   "cell_type": "code",
   "execution_count": 105,
   "metadata": {},
   "outputs": [
    {
     "output_type": "execute_result",
     "data": {
      "text/plain": "44030"
     },
     "metadata": {},
     "execution_count": 105
    }
   ],
   "source": [
    "profit_2(profit2)"
   ]
  },
  {
   "cell_type": "code",
   "execution_count": 80,
   "metadata": {},
   "outputs": [],
   "source": [
    "def vowel_links(txt):\n",
    "    txt = txt.split()\n",
    "    for i in range(len(txt) -1 ):\n",
    "        if txt[i][-1] in 'aeiou' and txt[i+1][0] in 'aeiou': return True\n",
    "            \n",
    "    return False    \n",
    "#arka arkaya sesli harfle biten ya da baslayan var mi?\n",
    "#https://edabit.com/challenge/PxxZprxCjDrzaTcLQ"
   ]
  },
  {
   "cell_type": "code",
   "execution_count": 81,
   "metadata": {},
   "outputs": [
    {
     "output_type": "execute_result",
     "data": {
      "text/plain": "True"
     },
     "metadata": {},
     "execution_count": 81
    }
   ],
   "source": [
    "vowel_links('hello papa oglun geldi')"
   ]
  },
  {
   "cell_type": "code",
   "execution_count": 3,
   "metadata": {},
   "outputs": [],
   "source": [
    "#censor_string(\"The cow jumped over the moon.\", [\"cow\", \"over\"], \"*\"), \"The *** jumped **** the moon.\")\n",
    "text1 = \"The cow jumped over the moon.\"\n",
    "list1 = [\"cow\", \"over\"]\n",
    "char1 = '!'\n",
    "def censored(text,lst,char):\n",
    "    for word in lst:\n",
    "        text = text.replace(word, char*len(word))\n",
    "    return text    \n"
   ]
  },
  {
   "cell_type": "code",
   "execution_count": 4,
   "metadata": {},
   "outputs": [
    {
     "output_type": "execute_result",
     "data": {
      "text/plain": "'The !!! jumped !!!! the moon.'"
     },
     "metadata": {},
     "execution_count": 4
    }
   ],
   "source": [
    "censored(text1,list1,char1  )"
   ]
  },
  {
   "cell_type": "code",
   "execution_count": 161,
   "metadata": {},
   "outputs": [],
   "source": [
    "def sira(x):\n",
    "    lower = [i for i in x if i.islower() ]\n",
    "    upper = [i for i in x if i.isupper()]\n",
    "    odd =   [i for i in x if i.isdigit() and int(i) % 2 != 0]\n",
    "    even =  [i for i in x if i.isdigit() and int(i) %2 == 0]\n",
    "    new_s=lower+upper+odd+even\n",
    "    return ''.join(new_s)\n",
    "#siaralama sorusu"
   ]
  },
  {
   "cell_type": "code",
   "execution_count": 162,
   "metadata": {},
   "outputs": [
    {
     "output_type": "execute_result",
     "data": {
      "text/plain": "'ameterfbHGFREW1902'"
     },
     "metadata": {},
     "execution_count": 162
    }
   ],
   "source": [
    "sira('aHmet1902GFREWerfb')"
   ]
  },
  {
   "cell_type": "code",
   "execution_count": 59,
   "metadata": {},
   "outputs": [],
   "source": [
    "def sira(x):\n",
    "\n",
    "    return sorted(x, reverse=True)\n",
    "\n",
    "        \n",
    "#verilen listeyi tersten dizmek\n",
    "#data = [*[i for i in data if i==\"R\"],*[i for i in data if i==\"G\"],*[i for i in data if i==\"B\"]]\n",
    "#==================================================================================================\n",
    "#array = ['G', 'B', 'R', 'R', 'B', 'R', 'G', 'B', 'G', 'B']\n",
    "#[i for i in list(array.count(\"R\") * \"R\" + array.count(\"G\") * \"G\" + array.count(\"B\") * \"B\")]"
   ]
  },
  {
   "cell_type": "code",
   "execution_count": 43,
   "metadata": {},
   "outputs": [
    {
     "output_type": "execute_result",
     "data": {
      "text/plain": "['r', 'r', 'g', 'g', 'g', 'g', 'g', 'b', 'b', 'b']"
     },
     "metadata": {},
     "execution_count": 43
    }
   ],
   "source": [
    "sira(['g','g','b','g','g','r','r','b','b','g'])"
   ]
  },
  {
   "cell_type": "code",
   "execution_count": 47,
   "metadata": {
    "tags": []
   },
   "outputs": [
    {
     "output_type": "stream",
     "name": "stdout",
     "text": "i\ni\n"
    }
   ],
   "source": [
    "print('i\\ni')"
   ]
  },
  {
   "cell_type": "code",
   "execution_count": 48,
   "metadata": {
    "tags": []
   },
   "outputs": [
    {
     "output_type": "stream",
     "name": "stdout",
     "text": "'i\\ni'\n"
    }
   ],
   "source": [
    "print(ascii('i\\ni'))\n"
   ]
  },
  {
   "cell_type": "code",
   "execution_count": 50,
   "metadata": {
    "tags": []
   },
   "outputs": [
    {
     "output_type": "stream",
     "name": "stdout",
     "text": "'baba'\n"
    }
   ],
   "source": [
    "a = 'baba'\n",
    "print(ascii(a))\n"
   ]
  },
  {
   "cell_type": "code",
   "execution_count": 51,
   "metadata": {},
   "outputs": [
    {
     "output_type": "execute_result",
     "data": {
      "text/plain": "'0b1100'"
     },
     "metadata": {},
     "execution_count": 51
    }
   ],
   "source": [
    "bin(12)"
   ]
  },
  {
   "cell_type": "code",
   "execution_count": 53,
   "metadata": {},
   "outputs": [],
   "source": [
    "x = 'alibi'"
   ]
  },
  {
   "cell_type": "code",
   "execution_count": 54,
   "metadata": {},
   "outputs": [
    {
     "output_type": "execute_result",
     "data": {
      "text/plain": "frozenset({'a', 'b', 'i', 'l'})"
     },
     "metadata": {},
     "execution_count": 54
    }
   ],
   "source": [
    "frozenset(x)"
   ]
  },
  {
   "cell_type": "code",
   "execution_count": 58,
   "metadata": {},
   "outputs": [
    {
     "output_type": "execute_result",
     "data": {
      "text/plain": "(12+0j)"
     },
     "metadata": {},
     "execution_count": 58
    }
   ],
   "source": [
    "complex(12)"
   ]
  },
  {
   "cell_type": "code",
   "execution_count": 62,
   "metadata": {},
   "outputs": [
    {
     "output_type": "execute_result",
     "data": {
      "text/plain": "True"
     },
     "metadata": {},
     "execution_count": 62
    }
   ],
   "source": [
    "callable()"
   ]
  },
  {
   "cell_type": "code",
   "execution_count": 1,
   "metadata": {
    "tags": []
   },
   "outputs": [
    {
     "output_type": "stream",
     "name": "stdout",
     "text": "[(0, 0, 0), (0, 0, 1), (0, 0, 2), (0, 1, 0), (0, 1, 1), (0, 1, 2), (0, 2, 0), (0, 2, 1), (0, 2, 2), (1, 0, 0), (1, 0, 1), (1, 0, 2), (1, 1, 0), (1, 1, 1), (1, 1, 2), (1, 2, 0), (1, 2, 1), (1, 2, 2), (2, 0, 0), (2, 0, 1), (2, 0, 2), (2, 1, 0), (2, 1, 1), (2, 1, 2), (2, 2, 0), (2, 2, 1), (2, 2, 2)]\n[[0, 0, 0], [0, 0, 1], [0, 0, 2], [0, 1, 0], [0, 1, 1], [0, 1, 2], [0, 2, 0], [0, 2, 1], [0, 2, 2], [1, 0, 0], [1, 0, 1], [1, 0, 2], [1, 1, 0], [1, 1, 1], [1, 1, 2], [1, 2, 0], [1, 2, 1], [1, 2, 2], [2, 0, 0], [2, 0, 1], [2, 0, 2], [2, 1, 0], [2, 1, 1], [2, 1, 2], [2, 2, 0], [2, 2, 1], [2, 2, 2]]\n"
    }
   ],
   "source": [
    "alist=[]\n",
    "blist= []\n",
    "for i in range(3):\n",
    "    for j in range(3):\n",
    "        for k in range(3):\n",
    "            alist.append((i,j,k))\n",
    "            blist.append([i,j,k])\n",
    "\n",
    "print(alist)\n",
    "print(blist)            \n",
    "\n",
    "#permutasyon hesaplari, ilki tuple ikinciliste"
   ]
  },
  {
   "cell_type": "code",
   "execution_count": 3,
   "metadata": {},
   "outputs": [
    {
     "output_type": "execute_result",
     "data": {
      "text/plain": "[[(0, 0)],\n [(0, 1)],\n [(0, 2)],\n [(1, 0)],\n [(1, 1)],\n [(1, 2)],\n [(2, 0)],\n [(2, 1)],\n [(2, 2)]]"
     },
     "metadata": {},
     "execution_count": 3
    }
   ],
   "source": [
    "[[(i,j)] for i in range(3) for j in range(3)]"
   ]
  },
  {
   "cell_type": "code",
   "execution_count": 8,
   "metadata": {
    "tags": []
   },
   "outputs": [
    {
     "output_type": "stream",
     "name": "stdout",
     "text": "[(0, 0, 2), (1, 0, 2), (2, 0, 2), (0, 1, 2), (1, 1, 2), (2, 1, 2), (0, 2, 2), (1, 2, 2), (2, 2, 2), (0, 0, 2), (1, 0, 2), (2, 0, 2), (0, 1, 2), (1, 1, 2), (2, 1, 2), (0, 2, 2), (1, 2, 2), (2, 2, 2), (0, 0, 2), (1, 0, 2), (2, 0, 2), (0, 1, 2), (1, 1, 2), (2, 1, 2), (0, 2, 2), (1, 2, 2), (2, 2, 2)]\n"
    }
   ],
   "source": [
    "print([(i,j,k) for i in range(3) for j in range(3) for i in range(3)])"
   ]
  },
  {
   "cell_type": "code",
   "execution_count": 7,
   "metadata": {},
   "outputs": [
    {
     "output_type": "execute_result",
     "data": {
      "text/plain": "[0, 2, 4, 6, 8, 10, 12, 14, 16, 18, 20, 22, 24, 26, 28]"
     },
     "metadata": {},
     "execution_count": 7
    }
   ],
   "source": [
    "[i for i in range(30) if i%2 ==0]"
   ]
  },
  {
   "cell_type": "code",
   "execution_count": null,
   "metadata": {},
   "outputs": [],
   "source": []
  }
 ],
 "metadata": {
  "language_info": {
   "codemirror_mode": {
    "name": "ipython",
    "version": 3
   },
   "file_extension": ".py",
   "mimetype": "text/x-python",
   "name": "python",
   "nbconvert_exporter": "python",
   "pygments_lexer": "ipython3",
   "version": 3
  },
  "orig_nbformat": 2,
  "kernelspec": {
   "name": "python_defaultSpec_1595873009042",
   "display_name": "Python 3.8.3 32-bit"
  }
 },
 "nbformat": 4,
 "nbformat_minor": 2
}