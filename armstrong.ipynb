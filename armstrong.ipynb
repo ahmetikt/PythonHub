{
 "cells": [
  {
   "cell_type": "code",
   "execution_count": 4,
   "metadata": {},
   "outputs": [
    {
     "name": "stdout",
     "output_type": "stream",
     "text": [
      "give a number: 134124\n",
      "134124 is not an Armstrong number\n"
     ]
    }
   ],
   "source": [
    "deger = input('give a number: ')\n",
    "liste = list(deger)\n",
    "total = 0\n",
    "\n",
    "for i in liste:\n",
    "    basamak = (int(i)) ** len(liste)\n",
    "    total += basamak\n",
    "if int(deger) == total:\n",
    "        print(f'{total} is an Armstrong number')\n",
    "else:\n",
    "        print(f'{deger} is not an Armstrong number')"
   ]
  },
  {
   "cell_type": "code",
   "execution_count": null,
   "metadata": {},
   "outputs": [],
   "source": []
  }
 ],
 "metadata": {
  "kernelspec": {
   "display_name": "Python 3",
   "language": "python",
   "name": "python3"
  },
  "language_info": {
   "codemirror_mode": {
    "name": "ipython",
    "version": 3
   },
   "file_extension": ".py",
   "mimetype": "text/x-python",
   "name": "python",
   "nbconvert_exporter": "python",
   "pygments_lexer": "ipython3",
   "version": "3.7.6"
  }
 },
 "nbformat": 4,
 "nbformat_minor": 4
}
