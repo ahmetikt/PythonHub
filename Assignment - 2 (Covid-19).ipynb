"""Answer as yes or no"""
age = input("Are you a cigarette addict older than 75 years old?:  ").lower()
chronic = input("Do you have a severe chronic disease?:  ").lower()
immune = input("Is your immune system too weak?:  ").lower()

if age == "no" and chronic == "no" and immune == "no":
    print("You are in not risky group")

else:
    print("You are in risky group") 