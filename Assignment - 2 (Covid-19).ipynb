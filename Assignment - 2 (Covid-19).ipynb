{
 "cells": [
  {
   "cell_type": "code",
   "execution_count": 24,
   "metadata": {},
   "outputs": [
    {
     "name": "stdout",
     "output_type": "stream",
     "text": [
      "Are you a cigarette addict older than 75 years old?: yes\n",
      "Do you have a severe chronic disease?: no\n",
      "Is your immune system too weak? : no\n",
      "You are in risky group\n"
     ]
    }
   ],
   "source": [
    "\"\"\"Answer as yes or no \"\"\"\n",
    "age = input(\"Are you a cigarette addict older than 75 years old?: \").lower()\n",
    "chronic = input(\"Do you have a severe chronic disease?: \").lower()\n",
    "immune = input(\"Is your immune system too weak? : \").lower()\n",
    "\n",
    "if age == \"no\" and chronic == \"no\" and immune == \"no\":\n",
    "    print(\"You are in not risky group\")\n",
    "\n",
    "else:\n",
    "    print(\"You are in risky group\")"
   ]
  }
