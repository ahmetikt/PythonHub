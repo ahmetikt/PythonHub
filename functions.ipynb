{
 "cells": [
  {
   "cell_type": "code",
   "execution_count": 38,
   "metadata": {},
   "outputs": [],
   "source": [
    "def kayit(isim,soyisim,sehir,isletim):\n",
    "    print('-'*30)\n",
    "    print('Isim:             ',isim)\n",
    "    print('Soyisim:          ',soyisim)\n",
    "    print('Sehir:            ',sehir)\n",
    "    print('Isletim sistemi:  ',isletim)\n",
    "    print('-'*30)\n",
    "\n",
    "\n",
    "\n",
    "    "
   ]
  },
  {
   "cell_type": "code",
   "execution_count": 42,
   "metadata": {
    "tags": []
   },
   "outputs": [
    {
     "output_type": "stream",
     "name": "stdout",
     "text": "------------------------------\nIsim:              Ahmet\nSoyisim:           Yildirim\nSehir:             Istanbul\nIsletim sistemi:   Windows\n------------------------------\n"
    }
   ],
   "source": [
    "kayit('Ahmet', 'Yildirim','Istanbul','Windows')"
   ]
  },
  {
   "cell_type": "code",
   "execution_count": 19,
   "metadata": {},
   "outputs": [],
   "source": [
    "def karebul(sayi):\n",
    "    cikti = f'{sayi} sayisinin karesi {sayi**2}, karekoku ise {sayi**0.5} sayisidir'\n",
    "    print(cikti)"
   ]
  },
  {
   "cell_type": "code",
   "execution_count": 20,
   "metadata": {
    "tags": []
   },
   "outputs": [
    {
     "output_type": "stream",
     "name": "stdout",
     "text": "123456789876543234567898765 sayisinin karesi 15241578966620948087181210074685566437921027288525225, karekoku ise 11111111100000.0 sayisidir\n"
    }
   ],
   "source": [
    "karebul(123456789876543234567898765)"
   ]
  },
  {
   "cell_type": "code",
   "execution_count": 41,
   "metadata": {
    "tags": []
   },
   "outputs": [
    {
     "output_type": "stream",
     "name": "stdout",
     "text": "------------------------------\nIsim:              Ali\nSoyisim:           Yilmaz\nSehir:             Ankara\nIsletim sistemi:   Debian\n------------------------------\n"
    }
   ],
   "source": [
    "kayit(isim = 'Ali', sehir= 'Ankara', isletim = 'Debian', soyisim='Yilmaz')"
   ]
  },
  {
   "cell_type": "code",
   "execution_count": 43,
   "metadata": {},
   "outputs": [],
   "source": [
    "def kur(kurulum_dzn = 'c:\\\\bin'):\n",
    "    print(f'Program {kurulum_dzn} dizinine kuruldu')"
   ]
  },
  {
   "cell_type": "code",
   "execution_count": 47,
   "metadata": {
    "tags": []
   },
   "outputs": [
    {
     "output_type": "stream",
     "name": "stdout",
     "text": "Program c:\\program files dizinine kuruldu\n"
    }
   ],
   "source": [
    "kur(kurulum_dzn='c:\\\\program files')"
   ]
  },
  {
   "cell_type": "code",
   "execution_count": 46,
   "metadata": {
    "tags": []
   },
   "outputs": [
    {
     "output_type": "stream",
     "name": "stdout",
     "text": "Program c:\\bin dizinine kuruldu\n"
    }
   ],
   "source": [
    "kur()"
   ]
  },
  {
   "cell_type": "code",
   "execution_count": 60,
   "metadata": {},
   "outputs": [],
   "source": [
    "def bal(*args):\n",
    "    sonuc = 0\n",
    "    for i in args:\n",
    "        sonuc += i\n",
    "    print(sonuc)    "
   ]
  },
  {
   "cell_type": "code",
   "execution_count": null,
   "metadata": {},
   "outputs": [],
   "source": []
  },
  {
   "cell_type": "code",
   "execution_count": 61,
   "metadata": {
    "tags": []
   },
   "outputs": [
    {
     "output_type": "stream",
     "name": "stdout",
     "text": "15\n"
    }
   ],
   "source": [
    "bal(1,2,3,4,5)"
   ]
  },
  {
   "cell_type": "code",
   "execution_count": 71,
   "metadata": {},
   "outputs": [],
   "source": [
    "def kimlik(**kwargs):\n",
    "    print('-'*30)\n",
    "    for key, value in kwargs.items():\n",
    "        print(f'{key :<15}:{value}')\n",
    "    print('-'*30)    \n",
    "    return"
   ]
  },
  {
   "cell_type": "code",
   "execution_count": 72,
   "metadata": {
    "tags": []
   },
   "outputs": [
    {
     "output_type": "stream",
     "name": "stdout",
     "text": "------------------------------\nad             :Ahmet\nSoyad          :Yil\nYas            :23\nMedeni_hal     :Bekar\n------------------------------\n"
    }
   ],
   "source": [
    "kimlik(ad = 'Ahmet', Soyad= 'Yil', Yas = 23, Medeni_hal = 'Bekar')"
   ]
  },
  {
   "cell_type": "code",
   "execution_count": 77,
   "metadata": {},
   "outputs": [],
   "source": [
    "def parrot(voltage, state='a stiff', action='voom', type='Norwegian Blue'):\n",
    "    print(\"-- This parrot wouldn't\", action, end='\\n')\n",
    "    print(\"if you put\", voltage, \"volts through it.\")\n",
    "    print(\"-- Lovely plumage, the\", type)\n",
    "    print(\"-- It's\", state, \"!\")\n",
    "\n"
   ]
  },
  {
   "cell_type": "code",
   "execution_count": 80,
   "metadata": {
    "tags": []
   },
   "outputs": [
    {
     "output_type": "stream",
     "name": "stdout",
     "text": "-- This parrot wouldn't voom\nif you put 500 volts through it.\n-- Lovely plumage, the Norwegian Blue\n-- It's 11 !\n"
    }
   ],
   "source": [
    "#parrot(100)\n",
    "parrot(voltage= 500, state = 11)"
   ]
  },
  {
   "cell_type": "code",
   "execution_count": 82,
   "metadata": {
    "tags": []
   },
   "outputs": [
    {
     "output_type": "stream",
     "name": "stdout",
     "text": "The teams in Premier League are :\n- Liverpool\n- M.United\n- M.City\n- Arsenal\n"
    }
   ],
   "source": [
    "def team_names(*teams) :\n",
    "    print('The teams in Premier League are :')\n",
    "    for i in teams :\n",
    "        print('-', i)\n",
    "\n",
    "team_names('Liverpool', 'M.United', 'M.City', 'Arsenal')    "
   ]
  },
  {
   "cell_type": "code",
   "execution_count": 83,
   "metadata": {
    "tags": []
   },
   "outputs": [
    {
     "output_type": "stream",
     "name": "stdout",
     "text": "I love Clarusway!\n"
    }
   ],
   "source": [
    "def make_sentence(**kwargs):\n",
    "    result = \"\"\n",
    "    # Iterating over the Python kwargs dictionary\n",
    "    for i in kwargs.values():\n",
    "        result += i\n",
    "    return result\n",
    "\n",
    "print(make_sentence(a=\"I \", b=\"love \", c=\"Clarusway!\"))"
   ]
  },
  {
   "cell_type": "code",
   "execution_count": 84,
   "metadata": {
    "tags": []
   },
   "outputs": [
    {
     "output_type": "stream",
     "name": "stdout",
     "text": "Liverpool in Premier League\n"
    }
   ],
   "source": [
    "def team_league(team, league='Premier League'):\n",
    "    print(team, 'in', league)\n",
    "\n",
    "team_league('Liverpool')"
   ]
  },
  {
   "cell_type": "code",
   "execution_count": null,
   "metadata": {},
   "outputs": [],
   "source": []
  }
 ],
 "metadata": {
  "language_info": {
   "codemirror_mode": {
    "name": "ipython",
    "version": 3
   },
   "file_extension": ".py",
   "mimetype": "text/x-python",
   "name": "python",
   "nbconvert_exporter": "python",
   "pygments_lexer": "ipython3",
   "version": 3
  },
  "orig_nbformat": 2,
  "kernelspec": {
   "name": "python_defaultSpec_1594812851844",
   "display_name": "Python 3.8.3 32-bit"
  }
 },
 "nbformat": 4,
 "nbformat_minor": 2
}