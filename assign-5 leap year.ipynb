{
 "cells": [
  {
   "cell_type": "code",
   "execution_count": 2,
   "metadata": {
    "scrolled": true
   },
   "outputs": [
    {
     "name": "stdout",
     "output_type": "stream",
     "text": [
      "give a year (e.g 1991): 1234\n",
      "False\n"
     ]
    }
   ],
   "source": [
    "year = int(input(\"give a year (e.g 1991): \"))\n",
    "\n",
    "leap = year % 4 == 0 and (not year % 100 == 0 or year % 400 == 0)\n",
    "\n",
    "\n",
    "print(leap)\n",
    "\n",
    "\n",
    "\n",
    "\n",
    "\n"
   ]
  },
  {
   "cell_type": "markdown",
   "metadata": {},
   "source": []
  },
  {
   "cell_type": "code",
   "execution_count": null,
   "metadata": {},
   "outputs": [],
   "source": []
  },
  {
   "cell_type": "code",
   "execution_count": null,
   "metadata": {},
   "outputs": [],
   "source": []
  },
  {
   "cell_type": "code",
   "execution_count": 11,
   "metadata": {},
   "outputs": [
    {
     "name": "stdout",
     "output_type": "stream",
     "text": [
      "give a year (e.g 1991): 1100\n",
      "\n",
      "1100 is not a leap year.\n"
     ]
    }
   ],
   "source": [
    "year = int(input(\"give a year (e.g 1991): \"))\n",
    "leap_1 = ((year % 4 == 0) and (year % 100 != 0)) or year % 400 == 0\n",
    "print(leap_1 * f\"{year} is a leap year.\")\n",
    "print((not leap_1) * f\"{year} is not a leap year.\")"
   ]
  },
  {
   "cell_type": "code",
   "execution_count": 13,
   "metadata": {},
   "outputs": [
    {
     "data": {
      "text/plain": [
       "['addis ababa', 'istanbul', 'tokyo', 'rome']"
      ]
     },
     "execution_count": 13,
     "metadata": {},
     "output_type": "execute_result"
    }
   ],
   "source": [
    "sehir = ['addis ababa','tokyo','rome','istanbul']\n",
    "\n",
    "#built-in functionlara gozat\n",
    "#key neye gore siraliyoruz  #bir objeye goreyse fonk?\n",
    "\n",
    "sorted(sehir, key = len, reverse=True) #keyword argumanlarda siralama farketmez"
   ]
  },
  {
   "cell_type": "code",
   "execution_count": null,
   "metadata": {},
   "outputs": [],
   "source": []
  }
 ],
 "metadata": {
  "kernelspec": {
   "display_name": "Python 3",
   "language": "python",
   "name": "python3"
  },
  "language_info": {
   "codemirror_mode": {
    "name": "ipython",
    "version": 3
   },
   "file_extension": ".py",
   "mimetype": "text/x-python",
   "name": "python",
   "nbconvert_exporter": "python",
   "pygments_lexer": "ipython3",
   "version": "3.7.6"
  }
 },
 "nbformat": 4,
 "nbformat_minor": 4
}
