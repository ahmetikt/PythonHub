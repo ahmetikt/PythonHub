{
 "cells": [
  {
   "cell_type": "code",
   "execution_count": 4,
   "metadata": {},
   "outputs": [
    {
     "name": "stdout",
     "output_type": "stream",
     "text": [
      "lutfen bir sayi giriniz: 12\n",
      "lutfen bir sayi giriniz: 21\n",
      "lutfen bir sayi giriniz: 312\n",
      "12, 21 ve 312 sayilarinin carpimi 78624.0 sayisidir\n"
     ]
    }
   ],
   "source": [
    "\"\"\"Problem 1\n",
    "Kullanıcıdan aldığınız 3 tane sayıyı çarparak ekrana yazdırın. Ekrana yazdırma işlemini format metoduyla yapmaya çalışın.\n",
    "\"\"\"\n",
    "\n",
    "\n",
    "x = int(input(\"lutfen bir sayi giriniz: \"))\n",
    "y = int(input(\"lutfen bir sayi giriniz: \"))\n",
    "z = int(input(\"lutfen bir sayi giriniz: \"))\n",
    "\n",
    "\n",
    "\n",
    "sonuc = float(x*y*z)\n",
    "\n",
    "print(\"{}, {} ve {} sayilarinin carpimi {} sayisidir\".format(x,y,z,sonuc))"
   ]
  },
  {
   "cell_type": "code",
   "execution_count": null,
   "metadata": {},
   "outputs": [],
   "source": [
    "\"\"\"Problem 2\n",
    "Kullanıcıdan aldığınız boy ve kilo değerlerine göre kullanıcının beden kitle indeksini bu\n",
    "\"\"\"\n",
    "\n",
    "\n",
    "\"\"\" <18 zayifsiniz\n",
    "    18.5 arasi 24.9 normal\n",
    "    25 arasi 29.9 kilolu\n",
    "    +30 kilolu\"\"\"\n",
    "\n",
    "\n",
    "\n",
    "boy = float(input(\"Lutfen boyunuzu metre ve cm cinsinden giriniz or: '1.75': \"))\n",
    "kilo = float(input(\"lutfen kilo: \"))\n",
    "\n",
    "index = kilo / boy**2 \n",
    "            \n",
    "print(index)            \n",
    "\n"
   ]
  },
  {
   "cell_type": "code",
   "execution_count": 6,
   "metadata": {},
   "outputs": [
    {
     "name": "stdout",
     "output_type": "stream",
     "text": [
      "18\n",
      "2\n"
     ]
    }
   ],
   "source": [
    "\"\"\"Problem 3\n",
    "Elinizde 200 dolarla değeri 11 dolar olan malzemeden max kaç adet alabilirsiniz? Geriye ne kadar paranız kalır?\n",
    "\"\"\"\n",
    "\n",
    "x = 200 / 11\n",
    "print(int(x))\n",
    "\n",
    "print(200 % 11)"
   ]
  },
  {
   "cell_type": "code",
   "execution_count": null,
   "metadata": {},
   "outputs": [],
   "source": [
    "\"\"\"Problem 4\n",
    "Kullanıcıdan iki tane sayı isteyin ve bu sayıların değerlerini birbirleriyle değiştirin.\n",
    "\"\"\"\n",
    "\n",
    "x = float(input(\"lutfen bir sayi girin: \"))\n",
    "y = float(input(\"lutfen bir sayi daha girin: \"))\n",
    "\n",
    "x,y = y, x \n",
    "\n",
    "\n",
    "print(x,y)"
   ]
  },
  {
   "cell_type": "code",
   "execution_count": 18,
   "metadata": {},
   "outputs": [
    {
     "name": "stdout",
     "output_type": "stream",
     "text": [
      "bir kelime giriniz: ali\n",
      "bir karakter giriniz: -\n",
      "tekrar icin sayi giriniz: 3\n",
      "alialiali\n"
     ]
    },
    {
     "data": {
      "text/plain": [
       "'\\nword = input(\"Word: \")\\nseperator = input(\"Seperator: \")\\nrepetitions = int(input(\"repetitions: \"))\\nnew_word = (word + seperator) * (repetitions)\\nprint(new_word,end = \"\\x08\")\\nprint()\\nprint(*[word]*repetitions, sep = seperator)'"
      ]
     },
     "execution_count": 18,
     "metadata": {},
     "output_type": "execute_result"
    }
   ],
   "source": [
    "\"\"\"Problem 6\n",
    "Kullanıcıdan word, seperator ve repetition değerleri alıp, verilen değerlere göre kelimeyi ekrana yazdırın. Örn: word = ali sep = / repetition = 3 ----> ali/ali/ali\n",
    "\"\"\"\n",
    "\n",
    "word = input(\"bir kelime giriniz: \")\n",
    "sept = input(\"bir karakter giriniz: \")\n",
    "tekrar = int(input(\"tekrar icin sayi giriniz: \"))\n",
    "\n",
    "new_word = (word + x)*(tek -1) + word\n",
    "#print(new_word)\n",
    "\n",
    "print(word*tekrar, sep=sept)\n",
    "\n",
    "\n",
    "\n",
    "\"\"\"\n",
    "word = input(\"Word: \")\n",
    "seperator = input(\"Seperator: \")\n",
    "repetitions = int(input(\"repetitions: \"))\n",
    "new_word = (word + seperator) * (repetitions)\n",
    "print(new_word,end = \"\\b\")\n",
    "print()\n",
    "print(*[word]*repetitions, sep = seperator)\"\"\""
   ]
  },
  {
   "cell_type": "code",
   "execution_count": null,
   "metadata": {},
   "outputs": [],
   "source": [
    "\"\"\"Problem 7\n",
    "Kullanıcıdan kelime ve sayı girdisi alın ve örnekteki çıktıyı else edin. Örn: word = Clarusway n = 3 OUTPUT = waywayway\n",
    "\"\"\"\n",
    "word=input(\"Word:\")\n",
    "n=int(input(\"Repetitions of the last n character:\"))\n",
    "leng = len(word)\n",
    "#last_el = word[-n:]\n",
    "last_el = word[leng-n:]\n",
    "print(last_el*n)\n"
   ]
  },
  {
   "cell_type": "code",
   "execution_count": 8,
   "metadata": {},
   "outputs": [
    {
     "name": "stdout",
     "output_type": "stream",
     "text": [
      "bir sayi giriniz: 46\n",
      "46\n"
     ]
    }
   ],
   "source": [
    "\"\"\"Problem 8\n",
    "Kullanıcıdan bir sayı alın, eğer sayı 3 e bölünüyorsa Clarus, 5 e bölünüyorsa way, \n",
    "her ikisine bölünüyorsa Clarusway, bölünmüyorsa sayının kendisini yazdırın\n",
    "\n",
    "\"\"\"\n",
    "\n",
    "num = int(input(\"bir sayi giriniz: \"))\n",
    "a = (num % 3 == 0)\n",
    "b = (num % 5 == 0)\n",
    "\n",
    "print(\"Clarus\" * a + \"way\"*b or num)"
   ]
  },
  {
   "cell_type": "code",
   "execution_count": 14,
   "metadata": {
    "scrolled": true
   },
   "outputs": [
    {
     "name": "stdout",
     "output_type": "stream",
     "text": [
      "Word: ali\n",
      "Seperator: -\n",
      "repetitions: 3\n",
      "ali-ali-ali"
     ]
    }
   ],
   "source": [
    "word = input(\"Word: \")\n",
    "seperator = input(\"Seperator: \")\n",
    "repetitions = int(input(\"repetitions: \"))\n",
    "new_word = (word + seperator) * (repetitions)\n",
    "#print(new_word,end = \"\\b\")\n",
    "#print()\n",
    "print(*[word]*repetitions, sep = seperator)   #liste seklinde aliyoruz word'u yoksa yildiz (*) herbir harfi ayirirdi.\n",
    "                                              #wordu direk kullanamzdik yoksa sep kullnamazdik, virgul olayi."
   ]
  },
  {
   "cell_type": "code",
   "execution_count": null,
   "metadata": {},
   "outputs": [],
   "source": [
    "\"\"\" \n",
    "Problem 9\n",
    "letters = \"abclarusxyz\"\n",
    "yığındaki clarus kelimesini elde edin\"\"\"\n",
    "\n",
    "\n",
    "\n",
    "\n"
   ]
  },
  {
   "cell_type": "code",
   "execution_count": null,
   "metadata": {},
   "outputs": [],
   "source": []
  },
  {
   "cell_type": "code",
   "execution_count": 11,
   "metadata": {},
   "outputs": [
    {
     "name": "stdout",
     "output_type": "stream",
     "text": [
      "Clarusway is the best\n"
     ]
    }
   ],
   "source": [
    "\"\"\"Problem 10\n",
    "\n",
    "rand_list listesinin elemanlarından Claruway is the best yazdırın\n",
    "rand_list = [1,[1, 2, \"Clarus\", [2, \"way\"]], \" is the best\"]\"\"\"\n",
    "\n",
    "\n",
    "rand_list = [1, [1, 2, \"Clarus\", [2, \"way\"]], \" is the best\"]\n",
    "\n",
    "\n",
    "text = rand_list[1][2] + rand_list[1][3][1] + rand_list[2]\n",
    "\n",
    "print(text)"
   ]
  },
  {
   "cell_type": "code",
   "execution_count": 7,
   "metadata": {},
   "outputs": [
    {
     "name": "stdout",
     "output_type": "stream",
     "text": [
      "{7}\n"
     ]
    }
   ],
   "source": [
    "\"\"\"Problem 11\n",
    "Aşağıda verilen listeyi küçükten büyüğe sıralayın. 1 den 10 a kadar eksik olan sayıyı bulun?\n",
    "\n",
    "num_list = [2, 3, 1, 5, 6, 4, 9, 8, 10]\"\"\"\n",
    "\n",
    "\n",
    "\"\"\"num_list = [2, 3, 1, 5, 6, 4, 9, 8, 10]\n",
    "a = sorted(num_list)\n",
    "print(a)\n",
    "list1 = set(range(1, 11))\n",
    "print(‘list1:’ + str(list1))\n",
    "list2 = set(num_list)\n",
    "print(‘list2:’ + str(list2))\n",
    "mis_num = list1.difference(list2)\n",
    "print(mis_num)\"\"\"\n",
    "\n",
    "\n",
    "num_list = [2, 3, 1, 5, 6, 4, 9, 8, 10]\n",
    "a = sorted(num_list)\n",
    "#print(a)\n",
    "list1 = set(range(1, 11))\n",
    "list2 = set(num_list)\n",
    "#mis_num = list1.difference(list2)\n",
    "mis_num = list1 - list2\n",
    "print(mis_num)"
   ]
  },
  {
   "cell_type": "code",
   "execution_count": 3,
   "metadata": {},
   "outputs": [
    {
     "name": "stdout",
     "output_type": "stream",
     "text": [
      "jack\n"
     ]
    }
   ],
   "source": [
    "\"\"\"Problem 12\n",
    "en yaşlı kişinin ismini yazdırın?\n",
    "\n",
    "\n",
    "  \"emma”: 21,\n",
    "  “Jack”: 45,\n",
    "  “Amy”:  15,\n",
    "  “Ben”:  29\n",
    "\"\"\"\n",
    "\n",
    "\n",
    "old = {\"emma\": 21,\n",
    "       \"jack\": 45,\n",
    "       \"Amy\": 15,\n",
    "       \"ben\": 29\n",
    "\n",
    "       }\n",
    "print(max(old, key=old.get))"
   ]
  },
  {
   "cell_type": "code",
   "execution_count": null,
   "metadata": {},
   "outputs": [],
   "source": []
  }
 ],
 "metadata": {
  "kernelspec": {
   "display_name": "Python 3",
   "language": "python",
   "name": "python3"
  },
  "language_info": {
   "codemirror_mode": {
    "name": "ipython",
    "version": 3
   },
   "file_extension": ".py",
   "mimetype": "text/x-python",
   "name": "python",
   "nbconvert_exporter": "python",
   "pygments_lexer": "ipython3",
   "version": "3.7.6"
  }
 },
 "nbformat": 4,
 "nbformat_minor": 4
}
