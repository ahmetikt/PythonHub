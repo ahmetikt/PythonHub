{
 "cells": [
  {
   "cell_type": "code",
   "execution_count": 4,
   "metadata": {},
   "outputs": [
    {
     "name": "stdout",
     "output_type": "stream",
     "text": [
      "Please put your name: Ali\n",
      "Hello Ali your password is \"Keuxtw\"\n"
     ]
    }
   ],
   "source": [
    "the_name = \"ali\"\n",
    "passw = \"Keuxtw\"\n",
    "check_name= input(\"Please put your name: \").lower()\n",
    "\n",
    "if check_name == the_name:\n",
    "    print(f'Hello {check_name.title()} your password is \"{passw}\"')\n",
    "else:\n",
    "    print(f'Hello {check_name}, see you later')\n"
   ]
  },
  {
   "cell_type": "code",
   "execution_count": null,
   "metadata": {},
   "outputs": [],
   "source": []
  }
 ],
 "metadata": {
  "kernelspec": {
   "display_name": "Python 3",
   "language": "python",
   "name": "python3"
  },
  "language_info": {
   "codemirror_mode": {
    "name": "ipython",
    "version": 3
   },
   "file_extension": ".py",
   "mimetype": "text/x-python",
   "name": "python",
   "nbconvert_exporter": "python",
   "pygments_lexer": "ipython3",
   "version": "3.7.6"
  }
 },
 "nbformat": 4,
 "nbformat_minor": 4
}
