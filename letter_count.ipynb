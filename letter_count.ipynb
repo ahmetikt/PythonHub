{
 "metadata": {
  "language_info": {
   "codemirror_mode": {
    "name": "ipython",
    "version": 3
   },
   "file_extension": ".py",
   "mimetype": "text/x-python",
   "name": "python",
   "nbconvert_exporter": "python",
   "pygments_lexer": "ipython3",
   "version": 3
  },
  "orig_nbformat": 2,
  "kernelspec": {
   "name": "python_defaultSpec_1595659555158",
   "display_name": "Python 3.8.3 32-bit"
  }
 },
 "nbformat": 4,
 "nbformat_minor": 2,
 "cells": [
  {
   "cell_type": "code",
   "execution_count": 4,
   "metadata": {
    "tags": []
   },
   "outputs": [
    {
     "output_type": "stream",
     "name": "stdout",
     "text": "{'z': 1, 'r': 1, 'k': 1, 'i': 5, ' ': 2, 'b': 1, 'e': 1, 'n': 1, 'm': 3, 'd': 1, 'a': 1}\n"
    }
   ],
   "source": [
    "entry = input('enter a sentence')\n",
    "list1 = []\n",
    "list2 = []\n",
    "for i in entry:\n",
    "    list1.append(i)\n",
    "    setlist = set(list1)\n",
    "for j in setlist:\n",
    "    list2.append(list1.count(j))\n",
    "dict1 = dict(zip(setlist, list2))  \n",
    "print(dict1)"
   ]
  },
  {
   "cell_type": "code",
   "execution_count": null,
   "metadata": {},
   "outputs": [],
   "source": []
  }
 ]
}