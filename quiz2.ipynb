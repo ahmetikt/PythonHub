{
 "cells": [
  {
   "cell_type": "code",
   "execution_count": 2,
   "metadata": {},
   "outputs": [],
   "source": [
    "#sentence=\"benim harflerimin ve boşluklarımın sayısını gösteren bir dict olusturun\"\n",
    "# output = {'v': 1, 'ı': 5, 'm': 3, 'l': 4, 'c': 1, 'b': 3, 't': 3, 'y': 1, ' ': 8, 'ş': 1, 'n': 6, 'h': 1, 'k': 1, 'a': 3, 'g': 1, 's': 4, 'r': 6, 'f': 1, 'o': 2, 'u': 4, 'd': 1, 'i': 5, 'e': 5, 'ö': 1}sentence=\"benim harflerimin ve boşluklarımın sayısını gösteren bir dict olusturun\"\n",
    "# output = {'v': 1, 'ı': 5, 'm': 3, 'l': 4, 'c': 1, 'b': 3, 't': 3, 'y': 1, ' ': 8, 'ş': 1, 'n': 6, 'h': 1, 'k': 1, 'a': 3, 'g': 1, 's': 4, 'r': 6, 'f': 1, 'o': 2, 'u': 4, 'd': 1, 'i': 5, 'e': 5, 'ö': 1}"
   ]
  },
  {
   "cell_type": "code",
   "execution_count": 1,
   "metadata": {
    "tags": []
   },
   "outputs": [
    {
     "output_type": "stream",
     "name": "stdout",
     "text": "{'c': 1, 'u': 4, 'f': 1, 'e': 5, 't': 3, 's': 5, 'm': 3, 'b': 3, 'k': 1, 'g': 1, 'n': 6, 'y': 1, 'o': 3, 'v': 1, 'd': 1, 'i': 10, ' ': 8, 'h': 1, 'a': 3, 'r': 6, 'l': 4}\n"
    }
   ],
   "source": [
    "sentence = 'benim harflerimin ve bosluklarimin sayisini gosteren bir dict olusturun'\n",
    "list1= []\n",
    "list2 = []\n",
    "\n",
    "for i in sentence:\n",
    "    list1.append(i)\n",
    "    setlist = set(list1)\n",
    "for j in setlist:\n",
    "    list2.append(list1.count(j))\n",
    "dict1 = dict(zip(setlist,list2)) \n",
    "print(dict1)   \n",
    "\n",
    "\n"
   ]
  },
  {
   "cell_type": "code",
   "execution_count": 16,
   "metadata": {
    "tags": []
   },
   "outputs": [
    {
     "output_type": "stream",
     "name": "stdout",
     "text": "{'c': 'c', 'u': 'u', 'f': 'f', 'e': 'e', 't': 't', 's': 's', 'm': 'm', 'b': 'b', 'k': 'k', 'g': 'g', 'n': 'n', 'y': 'y', 'o': 'o', 'v': 'v', 'd': 'd', 'i': 'i', ' ': ' ', 'h': 'h', 'a': 'a', 'r': 'r', 'l': 'l'}\n"
    }
   ],
   "source": [
    "sentence = 'benim harflerimin ve bosluklarimin sayisini gosteren bir dict olusturun'\n",
    "list1 = [i for i in sentence]\n",
    "#print(list1)\n",
    "setlist = set(list1)\n",
    "#print(setlist)\n",
    "for j in setlist:\n",
    "    list2.append(list1.count(j))\n",
    "dict1 = dict(zip(setlist,list2)) \n",
    "print(dict1)   \n",
    "   \n",
    "\n",
    "\n",
    "\n",
    "\n",
    "\n"
   ]
  },
  {
   "cell_type": "code",
   "execution_count": 15,
   "metadata": {},
   "outputs": [
    {
     "output_type": "execute_result",
     "data": {
      "text/plain": "71"
     },
     "metadata": {},
     "execution_count": 15
    }
   ],
   "source": [
    "len(sentence)"
   ]
  },
  {
   "cell_type": "code",
   "execution_count": 16,
   "metadata": {},
   "outputs": [
    {
     "output_type": "execute_result",
     "data": {
      "text/plain": "71"
     },
     "metadata": {},
     "execution_count": 16
    }
   ],
   "source": [
    "len(list1)\n"
   ]
  },
  {
   "cell_type": "code",
   "execution_count": 17,
   "metadata": {},
   "outputs": [
    {
     "output_type": "execute_result",
     "data": {
      "text/plain": "{' ',\n 'a',\n 'b',\n 'c',\n 'd',\n 'e',\n 'f',\n 'g',\n 'h',\n 'i',\n 'k',\n 'l',\n 'm',\n 'n',\n 'o',\n 'r',\n 's',\n 't',\n 'u',\n 'v',\n 'y'}"
     },
     "metadata": {},
     "execution_count": 17
    }
   ],
   "source": [
    "setlist"
   ]
  },
  {
   "cell_type": "code",
   "execution_count": 18,
   "metadata": {},
   "outputs": [
    {
     "output_type": "execute_result",
     "data": {
      "text/plain": "76.0"
     },
     "metadata": {},
     "execution_count": 18
    }
   ],
   "source": [
    "#Write a Python code that calculates the average of scores that students took in a math class at below.\n",
    "scores = {\"Mary\" : 85, \"Susan\": 75, \"Barry\" : 65, \"Alexis\" : 88, \"Jane\" : 45, \"Tina\" : 100, \"Tom\" : 90, \"Tim\": 60}\n",
    "\n",
    "avarage = sum(scores.values()) / len(scores.keys())\n",
    "avarage"
   ]
  },
  {
   "cell_type": "code",
   "execution_count": 21,
   "metadata": {},
   "outputs": [
    {
     "output_type": "execute_result",
     "data": {
      "text/plain": "8"
     },
     "metadata": {},
     "execution_count": 21
    }
   ],
   "source": [
    "len(scores)"
   ]
  },
  {
   "cell_type": "code",
   "execution_count": 10,
   "metadata": {},
   "outputs": [],
   "source": [
    "#def my_function(a,b):\n",
    "    #print((a**2 + b**2)**0.5)\n",
    "  #my_function(3,4)"
   ]
  },
  {
   "cell_type": "code",
   "execution_count": 18,
   "metadata": {
    "tags": []
   },
   "outputs": [],
   "source": [
    "def my_function(a,b):\n",
    "    area = a*b\n",
    "    print(area)"
   ]
  },
  {
   "cell_type": "code",
   "execution_count": 19,
   "metadata": {
    "tags": []
   },
   "outputs": [
    {
     "output_type": "stream",
     "name": "stdout",
     "text": "12\n"
    }
   ],
   "source": [
    "my_function(3,4)"
   ]
  },
  {
   "cell_type": "code",
   "execution_count": 21,
   "metadata": {
    "tags": []
   },
   "outputs": [
    {
     "output_type": "stream",
     "name": "stdout",
     "text": "Mark\n"
    }
   ],
   "source": [
    "def longer(a, b):\n",
    "    if len(a) >= len(b):\n",
    "        return a\n",
    "    else:\n",
    "         return b\n",
    "\n",
    "print(longer('Mark', 'John'))"
   ]
  },
  {
   "cell_type": "code",
   "execution_count": 23,
   "metadata": {},
   "outputs": [],
   "source": [
    "x = 'My name is Richard'\n",
    "def my_function_1(): \n",
    "    x = 'My name is John'"
   ]
  },
  {
   "cell_type": "code",
   "execution_count": 24,
   "metadata": {
    "tags": []
   },
   "outputs": [
    {
     "output_type": "stream",
     "name": "stdout",
     "text": "My name is Richard\n"
    }
   ],
   "source": [
    "print(x)"
   ]
  },
  {
   "cell_type": "code",
   "execution_count": 48,
   "metadata": {},
   "outputs": [],
   "source": [
    "city = \"I love Paris!\"\n",
    "\n",
    "def my_function():\n",
    "    city = 'I love London!'\n",
    "    return city"
   ]
  },
  {
   "cell_type": "code",
   "execution_count": 49,
   "metadata": {
    "tags": []
   },
   "outputs": [
    {
     "output_type": "execute_result",
     "data": {
      "text/plain": "'I love London!'"
     },
     "metadata": {},
     "execution_count": 49
    }
   ],
   "source": [
    "my_function()"
   ]
  },
  {
   "cell_type": "code",
   "execution_count": 51,
   "metadata": {},
   "outputs": [],
   "source": [
    "def outer():\n",
    "    x = \"previous\"\n",
    "    \n",
    "    def inner():\n",
    "        nonlocal x\n",
    "        x = \"later\"\n",
    "        print(\"inner:\", x)\n",
    "    \n",
    "    inner()\n",
    "    print(\"outer:\", x)"
   ]
  },
  {
   "cell_type": "code",
   "execution_count": 52,
   "metadata": {
    "tags": []
   },
   "outputs": [
    {
     "output_type": "stream",
     "name": "stdout",
     "text": "inner: later\nouter: later\n"
    }
   ],
   "source": [
    "outer()"
   ]
  },
  {
   "cell_type": "code",
   "execution_count": 5,
   "metadata": {},
   "outputs": [
    {
     "output_type": "error",
     "ename": "SyntaxError",
     "evalue": "invalid syntax (<ipython-input-5-53c546faec35>, line 3)",
     "traceback": [
      "\u001b[1;36m  File \u001b[1;32m\"<ipython-input-5-53c546faec35>\"\u001b[1;36m, line \u001b[1;32m3\u001b[0m\n\u001b[1;33m    result\u001b[0m\n\u001b[1;37m    ^\u001b[0m\n\u001b[1;31mSyntaxError\u001b[0m\u001b[1;31m:\u001b[0m invalid syntax\n"
     ]
    }
   ],
   "source": [
    "number_list=[1, 2, 3, 4, 5, 6, 7, 8, 9, 10]\n",
    "result = list(filter((lambda x : True if x >= 6  else False, number_list ))\n",
    "result"
   ]
  },
  {
   "cell_type": "code",
   "execution_count": 6,
   "metadata": {},
   "outputs": [],
   "source": [
    "number_list = [1, 2, 3, 4, 5, 6, 7, 8, 9, 10]\n",
    "\n",
    "result = list(filter(lambda x : True if x >= 6  else False, number_list )) "
   ]
  },
  {
   "cell_type": "code",
   "execution_count": 7,
   "metadata": {
    "tags": []
   },
   "outputs": [
    {
     "output_type": "stream",
     "name": "stdout",
     "text": "[6, 7, 8, 9, 10]\n"
    }
   ],
   "source": [
    "print(result)"
   ]
  },
  {
   "cell_type": "code",
   "execution_count": 8,
   "metadata": {
    "tags": []
   },
   "outputs": [
    {
     "output_type": "stream",
     "name": "stdout",
     "text": "125\n"
    }
   ],
   "source": [
    "def modular_function(n):\n",
    "    return lambda x: x ** n\n",
    "\n",
    "power_of_3 = modular_function(3)\n",
    "print(power_of_3(5))"
   ]
  },
  {
   "cell_type": "code",
   "execution_count": 11,
   "metadata": {},
   "outputs": [
    {
     "output_type": "execute_result",
     "data": {
      "text/plain": "25"
     },
     "metadata": {},
     "execution_count": 11
    }
   ],
   "source": [
    "square = lambda x : x**2\n",
    "square(5)"
   ]
  },
  {
   "cell_type": "code",
   "execution_count": 47,
   "metadata": {},
   "outputs": [],
   "source": [
    "def parrot_trouble(talking, hour):\n",
    "    saat  = [22,23,0,1,2,3,4,5]\n",
    "    if hour in saat and talking == True:\n",
    "        return True\n",
    "    else:\n",
    "        return False\n",
    "        \n",
    "\n",
    "\n",
    "\n",
    "\n",
    "\n",
    "\n"
   ]
  },
  {
   "cell_type": "code",
   "execution_count": 49,
   "metadata": {
    "tags": []
   },
   "outputs": [
    {
     "output_type": "stream",
     "name": "stdout",
     "text": "False\n"
    }
   ],
   "source": [
    "print(parrot_trouble(False, 22))"
   ]
  },
  {
   "cell_type": "code",
   "execution_count": 54,
   "metadata": {
    "tags": []
   },
   "outputs": [
    {
     "output_type": "stream",
     "name": "stdout",
     "text": "[1, 1, -1, -1, 1]\n"
    }
   ],
   "source": [
    "user= [\"cat\", \"blue\", \"skt\", \"umbrells\", \"paddy\"]\n",
    "cor = [\"cat\", \"blue\", \"sky\", \"umbrella\", \"paddy\"]\n",
    "\n",
    "f= map(lambda x,y : 1 if x == y else -1,user, cor)\n",
    "print(list(f))\n",
    "\n",
    "\n"
   ]
  },
  {
   "cell_type": "code",
   "execution_count": 6,
   "metadata": {},
   "outputs": [
    {
     "output_type": "execute_result",
     "data": {
      "text/plain": "'hello :/'"
     },
     "metadata": {},
     "execution_count": 6
    }
   ],
   "source": [
    "def myprint(n):\n",
    "   return lambda x : x + ' '+ n\n",
    "\n",
    "myprint_smile = myprint(':)')\n",
    "myprint_sad = myprint(':(')\n",
    "myprint_neutral = myprint(':/')\n",
    "\n",
    "\n",
    "\n",
    "myprint_neutral('hello')"
   ]
  },
  {
   "cell_type": "code",
   "execution_count": 7,
   "metadata": {},
   "outputs": [
    {
     "output_type": "execute_result",
     "data": {
      "text/plain": "'hello :)'"
     },
     "metadata": {},
     "execution_count": 7
    }
   ],
   "source": [
    "myprint_smile('hello')"
   ]
  },
  {
   "cell_type": "code",
   "execution_count": 8,
   "metadata": {},
   "outputs": [
    {
     "output_type": "execute_result",
     "data": {
      "text/plain": "'hello :('"
     },
     "metadata": {},
     "execution_count": 8
    }
   ],
   "source": [
    "myprint_sad('hello')"
   ]
  },
  {
   "cell_type": "code",
   "execution_count": 10,
   "metadata": {},
   "outputs": [
    {
     "output_type": "execute_result",
     "data": {
      "text/plain": "False"
     },
     "metadata": {},
     "execution_count": 10
    }
   ],
   "source": [
    "def functgen(func):\n",
    "    return lambda x : func(x)\n",
    "\n",
    "my_bool = functgen(bool)\n",
    "\n",
    "my_bool('')\n",
    "\n",
    "\n",
    "\n",
    "\n",
    "\n",
    "\n"
   ]
  },
  {
   "cell_type": "code",
   "execution_count": 11,
   "metadata": {
    "tags": []
   },
   "outputs": [
    {
     "output_type": "stream",
     "name": "stdout",
     "text": "ali\n"
    }
   ],
   "source": [
    "my_print = functgen(print)\n",
    "my_print('ali')"
   ]
  },
  {
   "cell_type": "code",
   "execution_count": 12,
   "metadata": {},
   "outputs": [],
   "source": [
    "def equal(a,b,c):\n",
    "    numbers = [a,b,c]\n",
    "    res = numbers.count(max(numbers, key=numbers.count))\n",
    "    return res if res > 1 else 0"
   ]
  },
  {
   "cell_type": "code",
   "execution_count": null,
   "metadata": {},
   "outputs": [],
   "source": []
  },
  {
   "cell_type": "code",
   "execution_count": 13,
   "metadata": {},
   "outputs": [
    {
     "output_type": "execute_result",
     "data": {
      "text/plain": "'c:\\\\Users\\\\da_yi\\\\GIT\\\\PythonHub\\\\PythonHub'"
     },
     "metadata": {},
     "execution_count": 13
    }
   ],
   "source": [
    "pwd\n"
   ]
  },
  {
   "cell_type": "code",
   "execution_count": 15,
   "metadata": {},
   "outputs": [],
   "source": [
    "import math\n",
    "\n"
   ]
  },
  {
   "cell_type": "code",
   "execution_count": 20,
   "metadata": {},
   "outputs": [
    {
     "output_type": "error",
     "ename": "ModuleNotFoundError",
     "evalue": "No module named 'pi'",
     "traceback": [
      "\u001b[1;31m---------------------------------------------------------------------------\u001b[0m",
      "\u001b[1;31mModuleNotFoundError\u001b[0m                       Traceback (most recent call last)",
      "\u001b[1;32m<ipython-input-20-08f9488efd01>\u001b[0m in \u001b[0;36m<module>\u001b[1;34m\u001b[0m\n\u001b[1;32m----> 1\u001b[1;33m \u001b[1;32mimport\u001b[0m \u001b[0mpi\u001b[0m\u001b[1;33m\u001b[0m\u001b[1;33m\u001b[0m\u001b[0m\n\u001b[0m",
      "\u001b[1;31mModuleNotFoundError\u001b[0m: No module named 'pi'"
     ]
    }
   ],
   "source": [
    " import pi "
   ]
  },
  {
   "cell_type": "code",
   "execution_count": 22,
   "metadata": {},
   "outputs": [],
   "source": [
    "from math import pi, factorial, log10"
   ]
  },
  {
   "cell_type": "code",
   "execution_count": 23,
   "metadata": {
    "tags": []
   },
   "outputs": [
    {
     "output_type": "stream",
     "name": "stdout",
     "text": "3.0\n"
    }
   ],
   "source": [
    "print(log10(1000))"
   ]
  },
  {
   "cell_type": "code",
   "execution_count": 24,
   "metadata": {},
   "outputs": [],
   "source": [
    "import string"
   ]
  },
  {
   "cell_type": "code",
   "execution_count": 31,
   "metadata": {},
   "outputs": [],
   "source": [
    "from string import punctuation, digits"
   ]
  },
  {
   "cell_type": "code",
   "execution_count": 32,
   "metadata": {},
   "outputs": [
    {
     "output_type": "execute_result",
     "data": {
      "text/plain": "'0123456789abcdefghijklmnopqrstuvwxyzABCDEFGHIJKLMNOPQRSTUVWXYZ!\"#$%&\\'()*+,-./:;<=>?@[\\\\]^_`{|}~ \\t\\n\\r\\x0b\\x0c'"
     },
     "metadata": {},
     "execution_count": 32
    }
   ],
   "source": [
    "string.printable"
   ]
  },
  {
   "cell_type": "code",
   "execution_count": 33,
   "metadata": {},
   "outputs": [],
   "source": [
    "import datetime"
   ]
  },
  {
   "cell_type": "code",
   "execution_count": 34,
   "metadata": {},
   "outputs": [
    {
     "output_type": "execute_result",
     "data": {
      "text/plain": "['MAXYEAR',\n 'MINYEAR',\n '__builtins__',\n '__cached__',\n '__doc__',\n '__file__',\n '__loader__',\n '__name__',\n '__package__',\n '__spec__',\n 'date',\n 'datetime',\n 'datetime_CAPI',\n 'sys',\n 'time',\n 'timedelta',\n 'timezone',\n 'tzinfo']"
     },
     "metadata": {},
     "execution_count": 34
    }
   ],
   "source": [
    "dir(datetime)"
   ]
  },
  {
   "cell_type": "code",
   "execution_count": 35,
   "metadata": {},
   "outputs": [],
   "source": [
    "from datetime import date\n"
   ]
  },
  {
   "cell_type": "code",
   "execution_count": 41,
   "metadata": {
    "tags": []
   },
   "outputs": [
    {
     "output_type": "execute_result",
     "data": {
      "text/plain": "datetime.date(2020, 7, 19)"
     },
     "metadata": {},
     "execution_count": 41
    }
   ],
   "source": [
    "datetime.date.today()"
   ]
  },
  {
   "cell_type": "code",
   "execution_count": 44,
   "metadata": {
    "tags": []
   },
   "outputs": [
    {
     "output_type": "stream",
     "name": "stdout",
     "text": "2020-07-19 17:36:29.067375\n"
    }
   ],
   "source": [
    "print(datetime.datetime.now())"
   ]
  },
  {
   "cell_type": "code",
   "execution_count": 48,
   "metadata": {},
   "outputs": [
    {
     "output_type": "error",
     "ename": "TypeError",
     "evalue": "timezone() argument 1 must be datetime.timedelta, not type",
     "traceback": [
      "\u001b[1;31m---------------------------------------------------------------------------\u001b[0m",
      "\u001b[1;31mTypeError\u001b[0m                                 Traceback (most recent call last)",
      "\u001b[1;32m<ipython-input-48-817140a5b26e>\u001b[0m in \u001b[0;36m<module>\u001b[1;34m\u001b[0m\n\u001b[1;32m----> 1\u001b[1;33m \u001b[0mdatetime\u001b[0m\u001b[1;33m.\u001b[0m\u001b[0mtimezone\u001b[0m\u001b[1;33m(\u001b[0m\u001b[0mtuple\u001b[0m\u001b[1;33m)\u001b[0m\u001b[1;33m\u001b[0m\u001b[1;33m\u001b[0m\u001b[0m\n\u001b[0m",
      "\u001b[1;31mTypeError\u001b[0m: timezone() argument 1 must be datetime.timedelta, not type"
     ]
    }
   ],
   "source": [
    "datetime.timezone()"
   ]
  },
  {
   "cell_type": "code",
   "execution_count": 55,
   "metadata": {},
   "outputs": [],
   "source": [
    "from random import choice\n",
    "city =[1,2,3,4,5]"
   ]
  },
  {
   "cell_type": "code",
   "execution_count": 56,
   "metadata": {
    "tags": []
   },
   "outputs": [
    {
     "output_type": "stream",
     "name": "stdout",
     "text": "5\n"
    }
   ],
   "source": [
    "print(choice(city))"
   ]
  },
  {
   "cell_type": "code",
   "execution_count": 57,
   "metadata": {},
   "outputs": [],
   "source": [
    "from datetime import date"
   ]
  },
  {
   "cell_type": "code",
   "execution_count": 58,
   "metadata": {},
   "outputs": [],
   "source": [
    "birth = date(571,4,22)\n",
    "daribeka = date(632,6,8)"
   ]
  },
  {
   "cell_type": "code",
   "execution_count": 59,
   "metadata": {},
   "outputs": [
    {
     "output_type": "execute_result",
     "data": {
      "text/plain": "22327"
     },
     "metadata": {},
     "execution_count": 59
    }
   ],
   "source": [
    "date.toordinal(daribeka) - date.toordinal(birth) \n"
   ]
  },
  {
   "cell_type": "code",
   "execution_count": 3,
   "metadata": {},
   "outputs": [],
   "source": [
    "def not_string(word):\n",
    "    return lambda x : word+' '+x\n",
    "string_not = not_string('not')"
   ]
  },
  {
   "cell_type": "code",
   "execution_count": 4,
   "metadata": {},
   "outputs": [
    {
     "output_type": "execute_result",
     "data": {
      "text/plain": "'not x'"
     },
     "metadata": {},
     "execution_count": 4
    }
   ],
   "source": [
    "string_not('x')"
   ]
  },
  {
   "cell_type": "code",
   "execution_count": 5,
   "metadata": {},
   "outputs": [
    {
     "output_type": "execute_result",
     "data": {
      "text/plain": "<function __main__.not_string.<locals>.<lambda>(x)>"
     },
     "metadata": {},
     "execution_count": 5
    }
   ],
   "source": [
    "not_string('ali')"
   ]
  },
  {
   "cell_type": "code",
   "execution_count": 3,
   "metadata": {},
   "outputs": [],
   "source": [
    "def not_string(word):\n",
    "    for i in word:\n",
    "        if 'not' in word:\n",
    "            return word\n",
    "        else:\n",
    "            return 'not '+word   "
   ]
  },
  {
   "cell_type": "code",
   "execution_count": 4,
   "metadata": {},
   "outputs": [
    {
     "output_type": "execute_result",
     "data": {
      "text/plain": "'notify'"
     },
     "metadata": {},
     "execution_count": 4
    }
   ],
   "source": [
    "not_string('notify')"
   ]
  },
  {
   "cell_type": "code",
   "execution_count": 1,
   "metadata": {
    "tags": []
   },
   "outputs": [
    {
     "output_type": "stream",
     "name": "stdout",
     "text": "[1, 2, 3, 4, 5, 6]\n"
    }
   ],
   "source": [
    "#nestedtan tek liste yapmak\n",
    "\n",
    "alist = [1,2,[3,4],[5,6]]\n",
    "blist = []\n",
    "\n",
    "for i in alist:\n",
    "    if type(i) == list:\n",
    "        for x in i:\n",
    "            blist.append(x)\n",
    "    else:\n",
    "        blist.append(i)\n",
    "print(blist)"
   ]
  },
  {
   "cell_type": "code",
   "execution_count": 2,
   "metadata": {
    "tags": []
   },
   "outputs": [
    {
     "output_type": "stream",
     "name": "stdout",
     "text": "[1, 2, 3, 4, 5, 6, 2, 3]\n"
    }
   ],
   "source": [
    "#nestedtan tek liste yapmak, tuple ekli\n",
    "\n",
    "alist = [1,2,[3,4],[5,6], (2,3)]\n",
    "blist = []\n",
    "\n",
    "for i in alist:\n",
    "    if type(i) == list or type(i) == tuple:\n",
    "        for x in i:\n",
    "            blist.append(x)\n",
    "    else:\n",
    "        blist.append(i)\n",
    "print(blist)"
   ]
  },
  {
   "cell_type": "code",
   "execution_count": null,
   "metadata": {},
   "outputs": [],
   "source": []
  }
 ],
 "metadata": {
  "language_info": {
   "codemirror_mode": {
    "name": "ipython",
    "version": 3
   },
   "file_extension": ".py",
   "mimetype": "text/x-python",
   "name": "python",
   "nbconvert_exporter": "python",
   "pygments_lexer": "ipython3",
   "version": 3
  },
  "orig_nbformat": 2,
  "kernelspec": {
   "name": "python_defaultSpec_1597070686679",
   "display_name": "Python 3.8.3 32-bit"
  }
 },
 "nbformat": 4,
 "nbformat_minor": 2
}