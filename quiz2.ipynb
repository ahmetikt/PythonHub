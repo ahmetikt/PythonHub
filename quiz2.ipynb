{
 "cells": [
  {
   "cell_type": "code",
   "execution_count": 2,
   "metadata": {},
   "outputs": [],
   "source": [
    "#sentence=\"benim harflerimin ve boşluklarımın sayısını gösteren bir dict olusturun\"\n",
    "# output = {'v': 1, 'ı': 5, 'm': 3, 'l': 4, 'c': 1, 'b': 3, 't': 3, 'y': 1, ' ': 8, 'ş': 1, 'n': 6, 'h': 1, 'k': 1, 'a': 3, 'g': 1, 's': 4, 'r': 6, 'f': 1, 'o': 2, 'u': 4, 'd': 1, 'i': 5, 'e': 5, 'ö': 1}sentence=\"benim harflerimin ve boşluklarımın sayısını gösteren bir dict olusturun\"\n",
    "# output = {'v': 1, 'ı': 5, 'm': 3, 'l': 4, 'c': 1, 'b': 3, 't': 3, 'y': 1, ' ': 8, 'ş': 1, 'n': 6, 'h': 1, 'k': 1, 'a': 3, 'g': 1, 's': 4, 'r': 6, 'f': 1, 'o': 2, 'u': 4, 'd': 1, 'i': 5, 'e': 5, 'ö': 1}"
   ]
  },
  {
   "cell_type": "code",
   "execution_count": 1,
   "metadata": {
    "tags": []
   },
   "outputs": [
    {
     "output_type": "stream",
     "name": "stdout",
     "text": "{'c': 1, 'u': 4, 'f': 1, 'e': 5, 't': 3, 's': 5, 'm': 3, 'b': 3, 'k': 1, 'g': 1, 'n': 6, 'y': 1, 'o': 3, 'v': 1, 'd': 1, 'i': 10, ' ': 8, 'h': 1, 'a': 3, 'r': 6, 'l': 4}\n"
    }
   ],
   "source": [
    "sentence = 'benim harflerimin ve bosluklarimin sayisini gosteren bir dict olusturun'\n",
    "list1= []\n",
    "list2 = []\n",
    "\n",
    "for i in sentence:\n",
    "    list1.append(i)\n",
    "    setlist = set(list1)\n",
    "for j in setlist:\n",
    "    list2.append(list1.count(j))\n",
    "dict1 = dict(zip(setlist,list2)) \n",
    "print(dict1)   \n",
    "\n",
    "\n"
   ]
  },
  {
   "cell_type": "code",
   "execution_count": 16,
   "metadata": {
    "tags": []
   },
   "outputs": [
    {
     "output_type": "stream",
     "name": "stdout",
     "text": "{'c': 'c', 'u': 'u', 'f': 'f', 'e': 'e', 't': 't', 's': 's', 'm': 'm', 'b': 'b', 'k': 'k', 'g': 'g', 'n': 'n', 'y': 'y', 'o': 'o', 'v': 'v', 'd': 'd', 'i': 'i', ' ': ' ', 'h': 'h', 'a': 'a', 'r': 'r', 'l': 'l'}\n"
    }
   ],
   "source": [
    "sentence = 'benim harflerimin ve bosluklarimin sayisini gosteren bir dict olusturun'\n",
    "list1 = [i for i in sentence]\n",
    "#print(list1)\n",
    "setlist = set(list1)\n",
    "#print(setlist)\n",
    "for j in setlist:\n",
    "    list2.append(list1.count(j))\n",
    "dict1 = dict(zip(setlist,list2)) \n",
    "print(dict1)   \n",
    "   \n",
    "\n",
    "\n",
    "\n",
    "\n",
    "\n"
   ]
  },
  {
   "cell_type": "code",
   "execution_count": 15,
   "metadata": {},
   "outputs": [
    {
     "output_type": "execute_result",
     "data": {
      "text/plain": "71"
     },
     "metadata": {},
     "execution_count": 15
    }
   ],
   "source": [
    "len(sentence)"
   ]
  },
  {
   "cell_type": "code",
   "execution_count": 16,
   "metadata": {},
   "outputs": [
    {
     "output_type": "execute_result",
     "data": {
      "text/plain": "71"
     },
     "metadata": {},
     "execution_count": 16
    }
   ],
   "source": [
    "len(list1)\n"
   ]
  },
  {
   "cell_type": "code",
   "execution_count": 17,
   "metadata": {},
   "outputs": [
    {
     "output_type": "execute_result",
     "data": {
      "text/plain": "{' ',\n 'a',\n 'b',\n 'c',\n 'd',\n 'e',\n 'f',\n 'g',\n 'h',\n 'i',\n 'k',\n 'l',\n 'm',\n 'n',\n 'o',\n 'r',\n 's',\n 't',\n 'u',\n 'v',\n 'y'}"
     },
     "metadata": {},
     "execution_count": 17
    }
   ],
   "source": [
    "setlist"
   ]
  },
  {
   "cell_type": "code",
   "execution_count": 18,
   "metadata": {},
   "outputs": [
    {
     "output_type": "execute_result",
     "data": {
      "text/plain": "76.0"
     },
     "metadata": {},
     "execution_count": 18
    }
   ],
   "source": [
    "#Write a Python code that calculates the average of scores that students took in a math class at below.\n",
    "scores = {\"Mary\" : 85, \"Susan\": 75, \"Barry\" : 65, \"Alexis\" : 88, \"Jane\" : 45, \"Tina\" : 100, \"Tom\" : 90, \"Tim\": 60}\n",
    "\n",
    "avarage = sum(scores.values()) / len(scores.keys())\n",
    "avarage"
   ]
  },
  {
   "cell_type": "code",
   "execution_count": 21,
   "metadata": {},
   "outputs": [
    {
     "output_type": "execute_result",
     "data": {
      "text/plain": "8"
     },
     "metadata": {},
     "execution_count": 21
    }
   ],
   "source": [
    "len(scores)"
   ]
  },
  {
   "cell_type": "code",
   "execution_count": null,
   "metadata": {},
   "outputs": [],
   "source": []
  }
 ],
 "metadata": {
  "language_info": {
   "codemirror_mode": {
    "name": "ipython",
    "version": 3
   },
   "file_extension": ".py",
   "mimetype": "text/x-python",
   "name": "python",
   "nbconvert_exporter": "python",
   "pygments_lexer": "ipython3",
   "version": 3
  },
  "orig_nbformat": 2,
  "kernelspec": {
   "name": "python_defaultSpec_1594913682802",
   "display_name": "Python 3.8.3 32-bit"
  }
 },
 "nbformat": 4,
 "nbformat_minor": 2
}